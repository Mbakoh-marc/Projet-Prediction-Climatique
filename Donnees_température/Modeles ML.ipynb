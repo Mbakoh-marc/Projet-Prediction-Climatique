{
 "cells": [
  {
   "cell_type": "markdown",
   "id": "ab19f183",
   "metadata": {},
   "source": [
    "Notre projet consiste à comprendre et à relater l'évolution de la température en Ile de france.\n",
    "hors mis celà nous devons également etre en mesure de donner grace au machine learning une prédiction sur les températures moyennes avenir.\n",
    "pour réaliser notre modèle de ML opérationnell et propre à cette tache nous passerons par les étapes suivantes:"
   ]
  },
  {
   "cell_type": "markdown",
   "id": "3cafe6e4",
   "metadata": {},
   "source": [
    "#### Importations des bibliothèques"
   ]
  },
  {
   "cell_type": "code",
   "execution_count": 1,
   "id": "deebde48",
   "metadata": {},
   "outputs": [],
   "source": [
    "import pandas as pd \n",
    "import numpy as np\n",
    "import matplotlib.pyplot as plt\n",
    "from sklearn.model_selection import train_test_split\n",
    "from sklearn.linear_model import LinearRegression\n",
    "from sklearn.metrics import mean_squared_error\n",
    "from sklearn.metrics import r2_score\n",
    "import matplotlib.pyplot as plt\n",
    "import joblib"
   ]
  },
  {
   "cell_type": "markdown",
   "id": "e0d90055",
   "metadata": {},
   "source": [
    "#### Lecture des données"
   ]
  },
  {
   "cell_type": "code",
   "execution_count": 2,
   "id": "fb999f26",
   "metadata": {
    "scrolled": true
   },
   "outputs": [
    {
     "data": {
      "text/html": [
       "<div>\n",
       "<style scoped>\n",
       "    .dataframe tbody tr th:only-of-type {\n",
       "        vertical-align: middle;\n",
       "    }\n",
       "\n",
       "    .dataframe tbody tr th {\n",
       "        vertical-align: top;\n",
       "    }\n",
       "\n",
       "    .dataframe thead th {\n",
       "        text-align: right;\n",
       "    }\n",
       "</style>\n",
       "<table border=\"1\" class=\"dataframe\">\n",
       "  <thead>\n",
       "    <tr style=\"text-align: right;\">\n",
       "      <th></th>\n",
       "      <th>YEAR</th>\n",
       "      <th>MONTH</th>\n",
       "      <th>LAT</th>\n",
       "      <th>LON</th>\n",
       "      <th>ALTI</th>\n",
       "      <th>RR</th>\n",
       "      <th>PMERM</th>\n",
       "      <th>TX</th>\n",
       "      <th>TXMIN</th>\n",
       "      <th>TN</th>\n",
       "      <th>...</th>\n",
       "      <th>TM</th>\n",
       "      <th>TMM</th>\n",
       "      <th>TMMIN</th>\n",
       "      <th>TMMAX</th>\n",
       "      <th>UMM</th>\n",
       "      <th>TSVM</th>\n",
       "      <th>ETP</th>\n",
       "      <th>FFM</th>\n",
       "      <th>INST</th>\n",
       "      <th>GLOT</th>\n",
       "    </tr>\n",
       "  </thead>\n",
       "  <tbody>\n",
       "    <tr>\n",
       "      <th>0</th>\n",
       "      <td>1950</td>\n",
       "      <td>1</td>\n",
       "      <td>48.8</td>\n",
       "      <td>2.5</td>\n",
       "      <td>81.2</td>\n",
       "      <td>25.9</td>\n",
       "      <td>1022.3</td>\n",
       "      <td>5.1</td>\n",
       "      <td>-2.4</td>\n",
       "      <td>-0.7</td>\n",
       "      <td>...</td>\n",
       "      <td>2.2</td>\n",
       "      <td>2.2</td>\n",
       "      <td>-4.5</td>\n",
       "      <td>8.7</td>\n",
       "      <td>90.000000</td>\n",
       "      <td>6.7</td>\n",
       "      <td>9.0</td>\n",
       "      <td>3.6</td>\n",
       "      <td>3165.0</td>\n",
       "      <td>NaN</td>\n",
       "    </tr>\n",
       "    <tr>\n",
       "      <th>1</th>\n",
       "      <td>1950</td>\n",
       "      <td>2</td>\n",
       "      <td>48.8</td>\n",
       "      <td>2.5</td>\n",
       "      <td>81.8</td>\n",
       "      <td>64.6</td>\n",
       "      <td>1012.3</td>\n",
       "      <td>10.6</td>\n",
       "      <td>3.5</td>\n",
       "      <td>3.2</td>\n",
       "      <td>...</td>\n",
       "      <td>6.9</td>\n",
       "      <td>6.8</td>\n",
       "      <td>0.3</td>\n",
       "      <td>11.3</td>\n",
       "      <td>81.515789</td>\n",
       "      <td>8.2</td>\n",
       "      <td>27.5</td>\n",
       "      <td>6.2</td>\n",
       "      <td>5728.4</td>\n",
       "      <td>NaN</td>\n",
       "    </tr>\n",
       "    <tr>\n",
       "      <th>2</th>\n",
       "      <td>1950</td>\n",
       "      <td>3</td>\n",
       "      <td>48.8</td>\n",
       "      <td>2.5</td>\n",
       "      <td>81.8</td>\n",
       "      <td>20.3</td>\n",
       "      <td>1021.3</td>\n",
       "      <td>12.6</td>\n",
       "      <td>5.4</td>\n",
       "      <td>2.8</td>\n",
       "      <td>...</td>\n",
       "      <td>7.7</td>\n",
       "      <td>7.7</td>\n",
       "      <td>0.8</td>\n",
       "      <td>12.2</td>\n",
       "      <td>80.300000</td>\n",
       "      <td>8.2</td>\n",
       "      <td>49.9</td>\n",
       "      <td>3.6</td>\n",
       "      <td>9676.8</td>\n",
       "      <td>NaN</td>\n",
       "    </tr>\n",
       "    <tr>\n",
       "      <th>3</th>\n",
       "      <td>1950</td>\n",
       "      <td>4</td>\n",
       "      <td>48.8</td>\n",
       "      <td>2.5</td>\n",
       "      <td>81.8</td>\n",
       "      <td>63.6</td>\n",
       "      <td>1010.5</td>\n",
       "      <td>13.7</td>\n",
       "      <td>8.4</td>\n",
       "      <td>4.2</td>\n",
       "      <td>...</td>\n",
       "      <td>9.0</td>\n",
       "      <td>8.7</td>\n",
       "      <td>4.4</td>\n",
       "      <td>14.5</td>\n",
       "      <td>81.515789</td>\n",
       "      <td>8.4</td>\n",
       "      <td>80.0</td>\n",
       "      <td>4.8</td>\n",
       "      <td>8836.2</td>\n",
       "      <td>NaN</td>\n",
       "    </tr>\n",
       "    <tr>\n",
       "      <th>4</th>\n",
       "      <td>1950</td>\n",
       "      <td>5</td>\n",
       "      <td>48.8</td>\n",
       "      <td>2.5</td>\n",
       "      <td>81.8</td>\n",
       "      <td>59.1</td>\n",
       "      <td>1016.0</td>\n",
       "      <td>20.3</td>\n",
       "      <td>12.2</td>\n",
       "      <td>8.9</td>\n",
       "      <td>...</td>\n",
       "      <td>14.6</td>\n",
       "      <td>14.3</td>\n",
       "      <td>8.6</td>\n",
       "      <td>19.9</td>\n",
       "      <td>75.000000</td>\n",
       "      <td>12.1</td>\n",
       "      <td>112.2</td>\n",
       "      <td>3.2</td>\n",
       "      <td>13103.6</td>\n",
       "      <td>NaN</td>\n",
       "    </tr>\n",
       "    <tr>\n",
       "      <th>...</th>\n",
       "      <td>...</td>\n",
       "      <td>...</td>\n",
       "      <td>...</td>\n",
       "      <td>...</td>\n",
       "      <td>...</td>\n",
       "      <td>...</td>\n",
       "      <td>...</td>\n",
       "      <td>...</td>\n",
       "      <td>...</td>\n",
       "      <td>...</td>\n",
       "      <td>...</td>\n",
       "      <td>...</td>\n",
       "      <td>...</td>\n",
       "      <td>...</td>\n",
       "      <td>...</td>\n",
       "      <td>...</td>\n",
       "      <td>...</td>\n",
       "      <td>...</td>\n",
       "      <td>...</td>\n",
       "      <td>...</td>\n",
       "      <td>...</td>\n",
       "    </tr>\n",
       "    <tr>\n",
       "      <th>887</th>\n",
       "      <td>2023</td>\n",
       "      <td>12</td>\n",
       "      <td>48.8</td>\n",
       "      <td>2.4</td>\n",
       "      <td>101.9</td>\n",
       "      <td>68.4</td>\n",
       "      <td>1016.7</td>\n",
       "      <td>9.6</td>\n",
       "      <td>2.9</td>\n",
       "      <td>5.2</td>\n",
       "      <td>...</td>\n",
       "      <td>7.4</td>\n",
       "      <td>7.3</td>\n",
       "      <td>0.0</td>\n",
       "      <td>11.4</td>\n",
       "      <td>87.500000</td>\n",
       "      <td>9.2</td>\n",
       "      <td>13.9</td>\n",
       "      <td>4.4</td>\n",
       "      <td>2443.2</td>\n",
       "      <td>7181.9</td>\n",
       "    </tr>\n",
       "    <tr>\n",
       "      <th>888</th>\n",
       "      <td>2024</td>\n",
       "      <td>1</td>\n",
       "      <td>48.8</td>\n",
       "      <td>2.4</td>\n",
       "      <td>101.9</td>\n",
       "      <td>63.0</td>\n",
       "      <td>1020.3</td>\n",
       "      <td>7.3</td>\n",
       "      <td>-1.7</td>\n",
       "      <td>1.5</td>\n",
       "      <td>...</td>\n",
       "      <td>4.4</td>\n",
       "      <td>4.1</td>\n",
       "      <td>-2.6</td>\n",
       "      <td>12.8</td>\n",
       "      <td>84.700000</td>\n",
       "      <td>7.4</td>\n",
       "      <td>13.7</td>\n",
       "      <td>3.9</td>\n",
       "      <td>4952.0</td>\n",
       "      <td>10839.3</td>\n",
       "    </tr>\n",
       "    <tr>\n",
       "      <th>889</th>\n",
       "      <td>2024</td>\n",
       "      <td>2</td>\n",
       "      <td>48.8</td>\n",
       "      <td>2.4</td>\n",
       "      <td>101.9</td>\n",
       "      <td>85.2</td>\n",
       "      <td>1014.1</td>\n",
       "      <td>11.5</td>\n",
       "      <td>8.1</td>\n",
       "      <td>6.4</td>\n",
       "      <td>...</td>\n",
       "      <td>8.9</td>\n",
       "      <td>8.7</td>\n",
       "      <td>5.1</td>\n",
       "      <td>13.3</td>\n",
       "      <td>87.400000</td>\n",
       "      <td>9.9</td>\n",
       "      <td>22.1</td>\n",
       "      <td>4.2</td>\n",
       "      <td>2074.2</td>\n",
       "      <td>11599.0</td>\n",
       "    </tr>\n",
       "    <tr>\n",
       "      <th>890</th>\n",
       "      <td>2024</td>\n",
       "      <td>3</td>\n",
       "      <td>48.8</td>\n",
       "      <td>2.4</td>\n",
       "      <td>101.9</td>\n",
       "      <td>88.1</td>\n",
       "      <td>1008.1</td>\n",
       "      <td>14.0</td>\n",
       "      <td>8.3</td>\n",
       "      <td>5.7</td>\n",
       "      <td>...</td>\n",
       "      <td>9.9</td>\n",
       "      <td>9.3</td>\n",
       "      <td>5.7</td>\n",
       "      <td>14.6</td>\n",
       "      <td>81.900000</td>\n",
       "      <td>9.5</td>\n",
       "      <td>50.8</td>\n",
       "      <td>3.4</td>\n",
       "      <td>7509.8</td>\n",
       "      <td>30544.1</td>\n",
       "    </tr>\n",
       "    <tr>\n",
       "      <th>891</th>\n",
       "      <td>2024</td>\n",
       "      <td>4</td>\n",
       "      <td>48.8</td>\n",
       "      <td>2.4</td>\n",
       "      <td>101.9</td>\n",
       "      <td>36.5</td>\n",
       "      <td>1016.1</td>\n",
       "      <td>19.1</td>\n",
       "      <td>13.4</td>\n",
       "      <td>9.3</td>\n",
       "      <td>...</td>\n",
       "      <td>14.2</td>\n",
       "      <td>13.7</td>\n",
       "      <td>10.0</td>\n",
       "      <td>18.4</td>\n",
       "      <td>76.600000</td>\n",
       "      <td>11.9</td>\n",
       "      <td>NaN</td>\n",
       "      <td>3.9</td>\n",
       "      <td>3812.8</td>\n",
       "      <td>17387.6</td>\n",
       "    </tr>\n",
       "  </tbody>\n",
       "</table>\n",
       "<p>892 rows × 22 columns</p>\n",
       "</div>"
      ],
      "text/plain": [
       "     YEAR  MONTH   LAT  LON   ALTI    RR   PMERM    TX  TXMIN   TN  ...    TM  \\\n",
       "0    1950      1  48.8  2.5   81.2  25.9  1022.3   5.1   -2.4 -0.7  ...   2.2   \n",
       "1    1950      2  48.8  2.5   81.8  64.6  1012.3  10.6    3.5  3.2  ...   6.9   \n",
       "2    1950      3  48.8  2.5   81.8  20.3  1021.3  12.6    5.4  2.8  ...   7.7   \n",
       "3    1950      4  48.8  2.5   81.8  63.6  1010.5  13.7    8.4  4.2  ...   9.0   \n",
       "4    1950      5  48.8  2.5   81.8  59.1  1016.0  20.3   12.2  8.9  ...  14.6   \n",
       "..    ...    ...   ...  ...    ...   ...     ...   ...    ...  ...  ...   ...   \n",
       "887  2023     12  48.8  2.4  101.9  68.4  1016.7   9.6    2.9  5.2  ...   7.4   \n",
       "888  2024      1  48.8  2.4  101.9  63.0  1020.3   7.3   -1.7  1.5  ...   4.4   \n",
       "889  2024      2  48.8  2.4  101.9  85.2  1014.1  11.5    8.1  6.4  ...   8.9   \n",
       "890  2024      3  48.8  2.4  101.9  88.1  1008.1  14.0    8.3  5.7  ...   9.9   \n",
       "891  2024      4  48.8  2.4  101.9  36.5  1016.1  19.1   13.4  9.3  ...  14.2   \n",
       "\n",
       "      TMM  TMMIN  TMMAX        UMM  TSVM    ETP  FFM     INST     GLOT  \n",
       "0     2.2   -4.5    8.7  90.000000   6.7    9.0  3.6   3165.0      NaN  \n",
       "1     6.8    0.3   11.3  81.515789   8.2   27.5  6.2   5728.4      NaN  \n",
       "2     7.7    0.8   12.2  80.300000   8.2   49.9  3.6   9676.8      NaN  \n",
       "3     8.7    4.4   14.5  81.515789   8.4   80.0  4.8   8836.2      NaN  \n",
       "4    14.3    8.6   19.9  75.000000  12.1  112.2  3.2  13103.6      NaN  \n",
       "..    ...    ...    ...        ...   ...    ...  ...      ...      ...  \n",
       "887   7.3    0.0   11.4  87.500000   9.2   13.9  4.4   2443.2   7181.9  \n",
       "888   4.1   -2.6   12.8  84.700000   7.4   13.7  3.9   4952.0  10839.3  \n",
       "889   8.7    5.1   13.3  87.400000   9.9   22.1  4.2   2074.2  11599.0  \n",
       "890   9.3    5.7   14.6  81.900000   9.5   50.8  3.4   7509.8  30544.1  \n",
       "891  13.7   10.0   18.4  76.600000  11.9    NaN  3.9   3812.8  17387.6  \n",
       "\n",
       "[892 rows x 22 columns]"
      ]
     },
     "execution_count": 2,
     "metadata": {},
     "output_type": "execute_result"
    }
   ],
   "source": [
    "df = pd.read_excel(\"data_clean_idf.xlsx\")\n",
    "\n",
    "#affichage de dataframe \n",
    "df"
   ]
  },
  {
   "cell_type": "markdown",
   "id": "e1f0cdff",
   "metadata": {},
   "source": [
    "#### Compréhension des données"
   ]
  },
  {
   "cell_type": "markdown",
   "id": "8b7c8754",
   "metadata": {},
   "source": [
    "data_clean.xlsx est un jeu de données sur l'historique des températures en ile de france au cours des 73 dernières années.\n",
    "ces données proviennent du site officiel de météo en france : \"meteo.data.gouv.fr\".\n",
    "elles ont été téléchargé au format CSV.GZ et convertit en format CSV grace à un outil dee conversion en ligne appelé EZYZIP.\n",
    "\n",
    "le dataset est constitué de 22 colonnes à savoir:\n",
    "\n",
    "- AAAAMM : Il s'agit probablement d'une colonne indiquant la date au format AAAA (année) et MM (mois).\n",
    "- LAT : Latitude géographique.\n",
    "- LON : Longitude géographique.\n",
    "- ALTI : Altitude.\n",
    "- RR : Précipitations.\n",
    "- PMERM : Probabilité de mer.\n",
    "- TX : Température maximale quotidienne.\n",
    "- TXMIN : Température minimale quotidienne.\n",
    "- TN : Température minimale quotidienne.\n",
    "- TNMAX : Température maximale quotidienne.\n",
    "- TAMPLIM : Amplitude thermique limite.\n",
    "- TM : Température moyenne quotidienne.\n",
    "- TMM : Température moyenne mensuelle.\n",
    "- TMMIN : Température minimale mensuelle.\n",
    "- TMMAX : Température maximale mensuelle.\n",
    "- UMM : Humidité moyenne mensuelle.\n",
    "- TSVM : Température du sol à différentes profondeurs.\n",
    "- ETP : Évapotranspiration potentielle.\n",
    "- FFM  : moyenne mensuelle de la force moyenne quotidienne du vent moyennÃ© sur 10 mn (FFM), Ã  10 m (en m/s et 1/10)\n",
    "- INST : cumul mensuel des durÃ©es totales dâ€™insolation quotidiennes (en mn)\n",
    "- GLOT : cumul mensuel du rayonnement global quotidien (en J/cm2)"
   ]
  },
  {
   "cell_type": "markdown",
   "id": "9f8f5679",
   "metadata": {},
   "source": [
    "#### Choix des données."
   ]
  },
  {
   "cell_type": "markdown",
   "id": "067063e4",
   "metadata": {},
   "source": [
    "Ce que nous voulons c'est de pouvoir mettre sur pieds en modèle qui en fonction de l'année entré, du mois pourra nous donner la température moyenne prévu.\n",
    "de cela on retient que nos features sont:\n",
    " - année \n",
    " - mois \n",
    " \n",
    "et notre cible est: \n",
    "\n",
    " - température moyenne ."
   ]
  },
  {
   "cell_type": "code",
   "execution_count": 3,
   "id": "0fba9ecc",
   "metadata": {},
   "outputs": [
    {
     "data": {
      "text/plain": [
       "Index(['YEAR', 'MONTH', 'LAT', 'LON', 'ALTI', 'RR', ' PMERM', 'TX', 'TXMIN',\n",
       "       ' TN', 'TNMAX', ' TAMPLIM', 'TM', 'TMM', 'TMMIN', 'TMMAX', 'UMM',\n",
       "       'TSVM', 'ETP', 'FFM', ' INST', 'GLOT'],\n",
       "      dtype='object')"
      ]
     },
     "execution_count": 3,
     "metadata": {},
     "output_type": "execute_result"
    }
   ],
   "source": [
    "df.columns"
   ]
  },
  {
   "cell_type": "code",
   "execution_count": 4,
   "id": "a4a2526b",
   "metadata": {
    "scrolled": true
   },
   "outputs": [
    {
     "data": {
      "text/html": [
       "<div>\n",
       "<style scoped>\n",
       "    .dataframe tbody tr th:only-of-type {\n",
       "        vertical-align: middle;\n",
       "    }\n",
       "\n",
       "    .dataframe tbody tr th {\n",
       "        vertical-align: top;\n",
       "    }\n",
       "\n",
       "    .dataframe thead th {\n",
       "        text-align: right;\n",
       "    }\n",
       "</style>\n",
       "<table border=\"1\" class=\"dataframe\">\n",
       "  <thead>\n",
       "    <tr style=\"text-align: right;\">\n",
       "      <th></th>\n",
       "      <th>YEAR</th>\n",
       "      <th>MONTH</th>\n",
       "      <th>LAT</th>\n",
       "      <th>LON</th>\n",
       "      <th>ALTI</th>\n",
       "      <th>RR</th>\n",
       "      <th>PMERM</th>\n",
       "      <th>TX</th>\n",
       "      <th>TXMIN</th>\n",
       "      <th>TN</th>\n",
       "      <th>...</th>\n",
       "      <th>TAMPLIM</th>\n",
       "      <th>TM</th>\n",
       "      <th>TMM</th>\n",
       "      <th>TMMIN</th>\n",
       "      <th>TMMAX</th>\n",
       "      <th>UMM</th>\n",
       "      <th>TSVM</th>\n",
       "      <th>ETP</th>\n",
       "      <th>FFM</th>\n",
       "      <th>INST</th>\n",
       "    </tr>\n",
       "  </thead>\n",
       "  <tbody>\n",
       "    <tr>\n",
       "      <th>0</th>\n",
       "      <td>1950</td>\n",
       "      <td>1</td>\n",
       "      <td>48.8</td>\n",
       "      <td>2.5</td>\n",
       "      <td>81.2</td>\n",
       "      <td>25.9</td>\n",
       "      <td>1022.3</td>\n",
       "      <td>5.1</td>\n",
       "      <td>-2.4</td>\n",
       "      <td>-0.7</td>\n",
       "      <td>...</td>\n",
       "      <td>5.8</td>\n",
       "      <td>2.2</td>\n",
       "      <td>2.2</td>\n",
       "      <td>-4.5</td>\n",
       "      <td>8.7</td>\n",
       "      <td>90.000000</td>\n",
       "      <td>6.7</td>\n",
       "      <td>9.0</td>\n",
       "      <td>3.6</td>\n",
       "      <td>3165.0</td>\n",
       "    </tr>\n",
       "    <tr>\n",
       "      <th>1</th>\n",
       "      <td>1950</td>\n",
       "      <td>2</td>\n",
       "      <td>48.8</td>\n",
       "      <td>2.5</td>\n",
       "      <td>81.8</td>\n",
       "      <td>64.6</td>\n",
       "      <td>1012.3</td>\n",
       "      <td>10.6</td>\n",
       "      <td>3.5</td>\n",
       "      <td>3.2</td>\n",
       "      <td>...</td>\n",
       "      <td>7.4</td>\n",
       "      <td>6.9</td>\n",
       "      <td>6.8</td>\n",
       "      <td>0.3</td>\n",
       "      <td>11.3</td>\n",
       "      <td>81.515789</td>\n",
       "      <td>8.2</td>\n",
       "      <td>27.5</td>\n",
       "      <td>6.2</td>\n",
       "      <td>5728.4</td>\n",
       "    </tr>\n",
       "    <tr>\n",
       "      <th>2</th>\n",
       "      <td>1950</td>\n",
       "      <td>3</td>\n",
       "      <td>48.8</td>\n",
       "      <td>2.5</td>\n",
       "      <td>81.8</td>\n",
       "      <td>20.3</td>\n",
       "      <td>1021.3</td>\n",
       "      <td>12.6</td>\n",
       "      <td>5.4</td>\n",
       "      <td>2.8</td>\n",
       "      <td>...</td>\n",
       "      <td>9.9</td>\n",
       "      <td>7.7</td>\n",
       "      <td>7.7</td>\n",
       "      <td>0.8</td>\n",
       "      <td>12.2</td>\n",
       "      <td>80.300000</td>\n",
       "      <td>8.2</td>\n",
       "      <td>49.9</td>\n",
       "      <td>3.6</td>\n",
       "      <td>9676.8</td>\n",
       "    </tr>\n",
       "    <tr>\n",
       "      <th>3</th>\n",
       "      <td>1950</td>\n",
       "      <td>4</td>\n",
       "      <td>48.8</td>\n",
       "      <td>2.5</td>\n",
       "      <td>81.8</td>\n",
       "      <td>63.6</td>\n",
       "      <td>1010.5</td>\n",
       "      <td>13.7</td>\n",
       "      <td>8.4</td>\n",
       "      <td>4.2</td>\n",
       "      <td>...</td>\n",
       "      <td>9.5</td>\n",
       "      <td>9.0</td>\n",
       "      <td>8.7</td>\n",
       "      <td>4.4</td>\n",
       "      <td>14.5</td>\n",
       "      <td>81.515789</td>\n",
       "      <td>8.4</td>\n",
       "      <td>80.0</td>\n",
       "      <td>4.8</td>\n",
       "      <td>8836.2</td>\n",
       "    </tr>\n",
       "    <tr>\n",
       "      <th>4</th>\n",
       "      <td>1950</td>\n",
       "      <td>5</td>\n",
       "      <td>48.8</td>\n",
       "      <td>2.5</td>\n",
       "      <td>81.8</td>\n",
       "      <td>59.1</td>\n",
       "      <td>1016.0</td>\n",
       "      <td>20.3</td>\n",
       "      <td>12.2</td>\n",
       "      <td>8.9</td>\n",
       "      <td>...</td>\n",
       "      <td>11.4</td>\n",
       "      <td>14.6</td>\n",
       "      <td>14.3</td>\n",
       "      <td>8.6</td>\n",
       "      <td>19.9</td>\n",
       "      <td>75.000000</td>\n",
       "      <td>12.1</td>\n",
       "      <td>112.2</td>\n",
       "      <td>3.2</td>\n",
       "      <td>13103.6</td>\n",
       "    </tr>\n",
       "  </tbody>\n",
       "</table>\n",
       "<p>5 rows × 21 columns</p>\n",
       "</div>"
      ],
      "text/plain": [
       "   YEAR  MONTH   LAT  LON  ALTI    RR   PMERM    TX  TXMIN   TN  ...  \\\n",
       "0  1950      1  48.8  2.5  81.2  25.9  1022.3   5.1   -2.4 -0.7  ...   \n",
       "1  1950      2  48.8  2.5  81.8  64.6  1012.3  10.6    3.5  3.2  ...   \n",
       "2  1950      3  48.8  2.5  81.8  20.3  1021.3  12.6    5.4  2.8  ...   \n",
       "3  1950      4  48.8  2.5  81.8  63.6  1010.5  13.7    8.4  4.2  ...   \n",
       "4  1950      5  48.8  2.5  81.8  59.1  1016.0  20.3   12.2  8.9  ...   \n",
       "\n",
       "    TAMPLIM    TM   TMM  TMMIN  TMMAX        UMM  TSVM    ETP  FFM     INST  \n",
       "0       5.8   2.2   2.2   -4.5    8.7  90.000000   6.7    9.0  3.6   3165.0  \n",
       "1       7.4   6.9   6.8    0.3   11.3  81.515789   8.2   27.5  6.2   5728.4  \n",
       "2       9.9   7.7   7.7    0.8   12.2  80.300000   8.2   49.9  3.6   9676.8  \n",
       "3       9.5   9.0   8.7    4.4   14.5  81.515789   8.4   80.0  4.8   8836.2  \n",
       "4      11.4  14.6  14.3    8.6   19.9  75.000000  12.1  112.2  3.2  13103.6  \n",
       "\n",
       "[5 rows x 21 columns]"
      ]
     },
     "execution_count": 4,
     "metadata": {},
     "output_type": "execute_result"
    }
   ],
   "source": [
    "# définition du dataset \n",
    "df1 = df[['YEAR', 'MONTH', 'LAT', 'LON', 'ALTI', 'RR', ' PMERM', 'TX', 'TXMIN',\n",
    "       ' TN', 'TNMAX', ' TAMPLIM', 'TM', 'TMM', 'TMMIN', 'TMMAX', 'UMM',\n",
    "       'TSVM', 'ETP', 'FFM', ' INST']]\n",
    "df1.head(5)"
   ]
  },
  {
   "cell_type": "markdown",
   "id": "f438a218",
   "metadata": {},
   "source": [
    "#### Création d'un ensemble de données test et d'entrainement"
   ]
  },
  {
   "cell_type": "code",
   "execution_count": 5,
   "id": "efacf966",
   "metadata": {},
   "outputs": [],
   "source": [
    "# Séparation des features et la cible\n",
    "X1 = X = df1[['YEAR', 'MONTH']]\n",
    "y = df1['TM']"
   ]
  },
  {
   "cell_type": "code",
   "execution_count": 6,
   "id": "e052bc30",
   "metadata": {},
   "outputs": [],
   "source": [
    "# Division des données en ensembles d'entraînement et de test\n",
    "X_train, X_test, y_train, y_test = train_test_split(X1, y, test_size=0.2, random_state=42)"
   ]
  },
  {
   "cell_type": "markdown",
   "id": "5cd4c448",
   "metadata": {},
   "source": [
    "#### Entrainement du modèle "
   ]
  },
  {
   "cell_type": "code",
   "execution_count": 7,
   "id": "9087770f",
   "metadata": {},
   "outputs": [],
   "source": [
    "# Choix du modèle\n",
    "LR = LinearRegression()"
   ]
  },
  {
   "cell_type": "code",
   "execution_count": 8,
   "id": "f8bf1bc2",
   "metadata": {
    "scrolled": true
   },
   "outputs": [
    {
     "data": {
      "text/html": [
       "<style>#sk-container-id-1 {color: black;}#sk-container-id-1 pre{padding: 0;}#sk-container-id-1 div.sk-toggleable {background-color: white;}#sk-container-id-1 label.sk-toggleable__label {cursor: pointer;display: block;width: 100%;margin-bottom: 0;padding: 0.3em;box-sizing: border-box;text-align: center;}#sk-container-id-1 label.sk-toggleable__label-arrow:before {content: \"▸\";float: left;margin-right: 0.25em;color: #696969;}#sk-container-id-1 label.sk-toggleable__label-arrow:hover:before {color: black;}#sk-container-id-1 div.sk-estimator:hover label.sk-toggleable__label-arrow:before {color: black;}#sk-container-id-1 div.sk-toggleable__content {max-height: 0;max-width: 0;overflow: hidden;text-align: left;background-color: #f0f8ff;}#sk-container-id-1 div.sk-toggleable__content pre {margin: 0.2em;color: black;border-radius: 0.25em;background-color: #f0f8ff;}#sk-container-id-1 input.sk-toggleable__control:checked~div.sk-toggleable__content {max-height: 200px;max-width: 100%;overflow: auto;}#sk-container-id-1 input.sk-toggleable__control:checked~label.sk-toggleable__label-arrow:before {content: \"▾\";}#sk-container-id-1 div.sk-estimator input.sk-toggleable__control:checked~label.sk-toggleable__label {background-color: #d4ebff;}#sk-container-id-1 div.sk-label input.sk-toggleable__control:checked~label.sk-toggleable__label {background-color: #d4ebff;}#sk-container-id-1 input.sk-hidden--visually {border: 0;clip: rect(1px 1px 1px 1px);clip: rect(1px, 1px, 1px, 1px);height: 1px;margin: -1px;overflow: hidden;padding: 0;position: absolute;width: 1px;}#sk-container-id-1 div.sk-estimator {font-family: monospace;background-color: #f0f8ff;border: 1px dotted black;border-radius: 0.25em;box-sizing: border-box;margin-bottom: 0.5em;}#sk-container-id-1 div.sk-estimator:hover {background-color: #d4ebff;}#sk-container-id-1 div.sk-parallel-item::after {content: \"\";width: 100%;border-bottom: 1px solid gray;flex-grow: 1;}#sk-container-id-1 div.sk-label:hover label.sk-toggleable__label {background-color: #d4ebff;}#sk-container-id-1 div.sk-serial::before {content: \"\";position: absolute;border-left: 1px solid gray;box-sizing: border-box;top: 0;bottom: 0;left: 50%;z-index: 0;}#sk-container-id-1 div.sk-serial {display: flex;flex-direction: column;align-items: center;background-color: white;padding-right: 0.2em;padding-left: 0.2em;position: relative;}#sk-container-id-1 div.sk-item {position: relative;z-index: 1;}#sk-container-id-1 div.sk-parallel {display: flex;align-items: stretch;justify-content: center;background-color: white;position: relative;}#sk-container-id-1 div.sk-item::before, #sk-container-id-1 div.sk-parallel-item::before {content: \"\";position: absolute;border-left: 1px solid gray;box-sizing: border-box;top: 0;bottom: 0;left: 50%;z-index: -1;}#sk-container-id-1 div.sk-parallel-item {display: flex;flex-direction: column;z-index: 1;position: relative;background-color: white;}#sk-container-id-1 div.sk-parallel-item:first-child::after {align-self: flex-end;width: 50%;}#sk-container-id-1 div.sk-parallel-item:last-child::after {align-self: flex-start;width: 50%;}#sk-container-id-1 div.sk-parallel-item:only-child::after {width: 0;}#sk-container-id-1 div.sk-dashed-wrapped {border: 1px dashed gray;margin: 0 0.4em 0.5em 0.4em;box-sizing: border-box;padding-bottom: 0.4em;background-color: white;}#sk-container-id-1 div.sk-label label {font-family: monospace;font-weight: bold;display: inline-block;line-height: 1.2em;}#sk-container-id-1 div.sk-label-container {text-align: center;}#sk-container-id-1 div.sk-container {/* jupyter's `normalize.less` sets `[hidden] { display: none; }` but bootstrap.min.css set `[hidden] { display: none !important; }` so we also need the `!important` here to be able to override the default hidden behavior on the sphinx rendered scikit-learn.org. See: https://github.com/scikit-learn/scikit-learn/issues/21755 */display: inline-block !important;position: relative;}#sk-container-id-1 div.sk-text-repr-fallback {display: none;}</style><div id=\"sk-container-id-1\" class=\"sk-top-container\"><div class=\"sk-text-repr-fallback\"><pre>LinearRegression()</pre><b>In a Jupyter environment, please rerun this cell to show the HTML representation or trust the notebook. <br />On GitHub, the HTML representation is unable to render, please try loading this page with nbviewer.org.</b></div><div class=\"sk-container\" hidden><div class=\"sk-item\"><div class=\"sk-estimator sk-toggleable\"><input class=\"sk-toggleable__control sk-hidden--visually\" id=\"sk-estimator-id-1\" type=\"checkbox\" checked><label for=\"sk-estimator-id-1\" class=\"sk-toggleable__label sk-toggleable__label-arrow\">LinearRegression</label><div class=\"sk-toggleable__content\"><pre>LinearRegression()</pre></div></div></div></div></div>"
      ],
      "text/plain": [
       "LinearRegression()"
      ]
     },
     "execution_count": 8,
     "metadata": {},
     "output_type": "execute_result"
    }
   ],
   "source": [
    "# Entraînement du modèle\n",
    "LR.fit(X_train, y_train)"
   ]
  },
  {
   "cell_type": "markdown",
   "id": "e085293f",
   "metadata": {},
   "source": [
    "#### Prédictions"
   ]
  },
  {
   "cell_type": "code",
   "execution_count": 9,
   "id": "d6627649",
   "metadata": {},
   "outputs": [],
   "source": [
    "# prédictions sur l'ensemble de test\n",
    "predictions = LR.predict(X_test)"
   ]
  },
  {
   "cell_type": "markdown",
   "id": "9d28fe58",
   "metadata": {},
   "source": [
    "#### Evaluation du modèle "
   ]
  },
  {
   "cell_type": "code",
   "execution_count": 10,
   "id": "6cfc79fd",
   "metadata": {
    "scrolled": true
   },
   "outputs": [
    {
     "name": "stdout",
     "output_type": "stream",
     "text": [
      "Mean Squared Error: 29.424043349334962\n"
     ]
    }
   ],
   "source": [
    "# Évaluation du modèle avec la MSE\n",
    "mse = mean_squared_error(y_test, predictions)\n",
    "print(\"Mean Squared Error:\", mse)"
   ]
  },
  {
   "cell_type": "code",
   "execution_count": 11,
   "id": "7b3419e2",
   "metadata": {},
   "outputs": [
    {
     "name": "stdout",
     "output_type": "stream",
     "text": [
      "Coefficient de détermination (R carré) : 0.06272939839495795\n"
     ]
    }
   ],
   "source": [
    "# Calcul du coefficient de détermination (R carré)\n",
    "r2 = r2_score(y_test, predictions)\n",
    "print(\"Coefficient de détermination (R carré) :\", r2) "
   ]
  },
  {
   "cell_type": "markdown",
   "id": "7c66bd42",
   "metadata": {},
   "source": [
    "cela implique que notre modèle LR a une erréur quadratique moyenne de 5,426 °c."
   ]
  },
  {
   "cell_type": "code",
   "execution_count": 39,
   "id": "27fba427",
   "metadata": {
    "scrolled": true
   },
   "outputs": [],
   "source": [
    "from sklearn.preprocessing import PolynomialFeatures\n",
    "from sklearn.preprocessing import StandardScaler\n",
    "from sklearn.linear_model import LinearRegression\n",
    "from sklearn.pipeline import make_pipeline\n",
    "from sklearn.metrics import mean_squared_error, mean_absolute_error, r2_score\n",
    "\n",
    "# Initialisation des listes pour stocker les métriques\n",
    "degrees = []\n",
    "mse_values = []\n",
    "mae_values = []\n",
    "r2_values = []\n",
    "\n",
    "# Création des fonctionnalités polynomiales\n",
    "for i in range(6):\n",
    "    degree = i  \n",
    "    poly_features = PolynomialFeatures(degree=degree)\n",
    "    X_poly = poly_features.fit_transform(X1)\n",
    "\n",
    "    # Entraînement du modèle de régression polynomiale\n",
    "    model1 = make_pipeline(PolynomialFeatures(degree),StandardScaler(),LinearRegression())\n",
    "    model1.fit(X_poly, y)\n",
    "\n",
    "    # Prédictions avec le modèle entraîné\n",
    "    predictions = model1.predict(X_poly)\n",
    "\n",
    "    # Prédictions sur l'ensemble de test\n",
    "    predictions_test = model1.predict(poly_features.transform(X_test))\n",
    "\n",
    "    # Calcul des métriques d'évaluation\n",
    "    mse = mean_squared_error(y_test, predictions_test)\n",
    "    mae = mean_absolute_error(y_test, predictions_test)\n",
    "    r2 = r2_score(y_test, predictions_test)\n",
    "\n",
    "    # Ajout des valeurs aux listes\n",
    "    degrees.append(degree)\n",
    "    mse_values.append(mse)\n",
    "    mae_values.append(mae)\n",
    "    r2_values.append(r2)\n",
    "\n",
    "    # Création du DataFrame\n",
    "    metrics_df = pd.DataFrame({\n",
    "        'Degré du polynôme': degrees,\n",
    "        'Erreur quadratique moyenne (EQM)': mse_values,\n",
    "        'Erreur absolue moyenne (EAM)': mae_values,\n",
    "        'Coefficient de détermination (R²)': r2_values\n",
    "    })"
   ]
  },
  {
   "cell_type": "code",
   "execution_count": 40,
   "id": "2d74b295",
   "metadata": {},
   "outputs": [
    {
     "data": {
      "text/html": [
       "<div>\n",
       "<style scoped>\n",
       "    .dataframe tbody tr th:only-of-type {\n",
       "        vertical-align: middle;\n",
       "    }\n",
       "\n",
       "    .dataframe tbody tr th {\n",
       "        vertical-align: top;\n",
       "    }\n",
       "\n",
       "    .dataframe thead th {\n",
       "        text-align: right;\n",
       "    }\n",
       "</style>\n",
       "<table border=\"1\" class=\"dataframe\">\n",
       "  <thead>\n",
       "    <tr style=\"text-align: right;\">\n",
       "      <th></th>\n",
       "      <th>Degré du polynôme</th>\n",
       "      <th>Erreur quadratique moyenne (EQM)</th>\n",
       "      <th>Erreur absolue moyenne (EAM)</th>\n",
       "      <th>Coefficient de détermination (R²)</th>\n",
       "    </tr>\n",
       "  </thead>\n",
       "  <tbody>\n",
       "    <tr>\n",
       "      <th>0</th>\n",
       "      <td>0</td>\n",
       "      <td>31.399830</td>\n",
       "      <td>4.879947</td>\n",
       "      <td>-0.000207</td>\n",
       "    </tr>\n",
       "    <tr>\n",
       "      <th>1</th>\n",
       "      <td>1</td>\n",
       "      <td>29.393864</td>\n",
       "      <td>4.654577</td>\n",
       "      <td>0.063691</td>\n",
       "    </tr>\n",
       "    <tr>\n",
       "      <th>2</th>\n",
       "      <td>2</td>\n",
       "      <td>2.516781</td>\n",
       "      <td>1.243617</td>\n",
       "      <td>0.919831</td>\n",
       "    </tr>\n",
       "    <tr>\n",
       "      <th>3</th>\n",
       "      <td>3</td>\n",
       "      <td>2.662990</td>\n",
       "      <td>1.330196</td>\n",
       "      <td>0.915173</td>\n",
       "    </tr>\n",
       "    <tr>\n",
       "      <th>4</th>\n",
       "      <td>4</td>\n",
       "      <td>2.571377</td>\n",
       "      <td>1.203755</td>\n",
       "      <td>0.918092</td>\n",
       "    </tr>\n",
       "    <tr>\n",
       "      <th>5</th>\n",
       "      <td>5</td>\n",
       "      <td>32.004523</td>\n",
       "      <td>4.247665</td>\n",
       "      <td>-0.019469</td>\n",
       "    </tr>\n",
       "  </tbody>\n",
       "</table>\n",
       "</div>"
      ],
      "text/plain": [
       "   Degré du polynôme  Erreur quadratique moyenne (EQM)  \\\n",
       "0                  0                         31.399830   \n",
       "1                  1                         29.393864   \n",
       "2                  2                          2.516781   \n",
       "3                  3                          2.662990   \n",
       "4                  4                          2.571377   \n",
       "5                  5                         32.004523   \n",
       "\n",
       "   Erreur absolue moyenne (EAM)  Coefficient de détermination (R²)  \n",
       "0                      4.879947                          -0.000207  \n",
       "1                      4.654577                           0.063691  \n",
       "2                      1.243617                           0.919831  \n",
       "3                      1.330196                           0.915173  \n",
       "4                      1.203755                           0.918092  \n",
       "5                      4.247665                          -0.019469  "
      ]
     },
     "execution_count": 40,
     "metadata": {},
     "output_type": "execute_result"
    }
   ],
   "source": [
    "# Affichage du DataFrame\n",
    "metrics_df"
   ]
  },
  {
   "cell_type": "code",
   "execution_count": 41,
   "id": "41e447ee",
   "metadata": {
    "scrolled": false
   },
   "outputs": [
    {
     "data": {
      "image/png": "[encoded data removed]",
      "text/plain": [
       "<Figure size 600x400 with 1 Axes>"
      ]
     },
     "metadata": {},
     "output_type": "display_data"
    }
   ],
   "source": [
    "# Création du graphique\n",
    "plt.figure(figsize=(6, 4))\n",
    "plt.plot(range(6), mse_values, label='Erreur quadratique moyenne (EQM)')\n",
    "plt.plot(range(6), mae_values, label='Erreur absolue moyenne (EAM)')\n",
    "plt.plot(range(6), r2_values, label='Coefficient de détermination (R²)')\n",
    "plt.xlabel('Degré du polynôme')\n",
    "plt.ylabel('Valeur de la métrique')\n",
    "plt.title('Évaluation des modèles polynomiaux')\n",
    "plt.legend()\n",
    "plt.xticks(range(6))\n",
    "plt.grid(True)\n",
    "plt.show()"
   ]
  },
  {
   "cell_type": "code",
   "execution_count": 59,
   "id": "4721bf0f",
   "metadata": {},
   "outputs": [
    {
     "name": "stdout",
     "output_type": "stream",
     "text": [
      "0.9055488447863382 1.3029283170485906 2.965136088385126\n"
     ]
    }
   ],
   "source": [
    "from sklearn.ensemble import RandomForestRegressor\n",
    "\n",
    "# Définition de la grille des hyperparamètres\n",
    "param_grid_rf = {\n",
    "    'n_estimators': [50, 100, 200],\n",
    "    'max_depth': [None, 5, 10, 20]\n",
    "}\n",
    "\n",
    "# Initialisation du modèle avec recherche d'hyperparamètres\n",
    "rf_model_cv = GridSearchCV(RandomForestRegressor(random_state=42), param_grid_rf, cv=5)\n",
    "\n",
    "# Entraînement du modèle avec recherche d'hyperparamètres\n",
    "rf_model_cv.fit(X_train, y_train)\n",
    "\n",
    "# Obtention des meilleurs hyperparamètres\n",
    "best_params_rf = rf_model_cv.best_params_\n",
    "\n",
    "# Entraînement du modèle avec les meilleurs hyperparamètres\n",
    "rf_model_best = RandomForestRegressor(**best_params_rf, random_state=42)\n",
    "rf_model_best.fit(X_train, y_train)\n",
    "\n",
    "# Prédictions\n",
    "rf_predictions_best = rf_model_best.predict(X_test)\n",
    "\n",
    "# Évaluation des performances\n",
    "rf_mse_best = mean_squared_error(y_test, rf_predictions_best)\n",
    "rf_mae_best = mean_absolute_error(y_test, rf_predictions_best)\n",
    "rf_r2_best = r2_score(y_test, rf_predictions_best)\n",
    "print(rf_r2_best, rf_mae_best, rf_mse_best)"
   ]
  },
  {
   "cell_type": "markdown",
   "id": "98b0ab11",
   "metadata": {},
   "source": [
    "On constate que le meilleur modèle est celui de regression polynomiale de dégré 3 car il possède le meilleur R carré ainsi qu'une EAM minimale"
   ]
  },
  {
   "cell_type": "code",
   "execution_count": 60,
   "id": "a4c68f97",
   "metadata": {
    "scrolled": true
   },
   "outputs": [
    {
     "name": "stdout",
     "output_type": "stream",
     "text": [
      "Erreur quadratique moyenne (EQM): 2.5023306114230204\n",
      "Erreur absolue moyenne (EAM): 1.2210724768274528\n",
      "Coefficient de détermination (R²): 0.9246877815772281\n"
     ]
    }
   ],
   "source": [
    "from sklearn.preprocessing import PolynomialFeatures\n",
    "from sklearn.linear_model import LinearRegression\n",
    "from sklearn.pipeline import make_pipeline\n",
    "\n",
    "# Création des fonctionnalités polynomiales\n",
    "degree = 3  # Degré du polynôme\n",
    "poly_features = PolynomialFeatures(degree=degree)\n",
    "X_poly = poly_features.fit_transform(X1)  # X_subset est le sous-ensemble de vos fonctionnalités \"YEAR\" et \"MONTH\"\n",
    "\n",
    "# Entraînement du modèle de régression polynomiale\n",
    "model = make_pipeline(PolynomialFeatures(degree), LinearRegression())\n",
    "model.fit(X_poly, y)\n",
    "\n",
    "# Prédictions avec le modèle entraîné\n",
    "predictions = model.predict(X_poly)\n",
    "\n",
    "# Calcul des métriques d'évaluation\n",
    "mse = mean_squared_error(y, predictions)\n",
    "mae = mean_absolute_error(y, predictions)\n",
    "r2 = r2_score(y, predictions)\n",
    "\n",
    "# Affichage des métriques\n",
    "print('Erreur quadratique moyenne (EQM):', mse)\n",
    "print('Erreur absolue moyenne (EAM):', mae)\n",
    "print('Coefficient de détermination (R²):', r2)"
   ]
  },
  {
   "cell_type": "code",
   "execution_count": 50,
   "id": "518e4599",
   "metadata": {
    "scrolled": true
   },
   "outputs": [
    {
     "name": "stdout",
     "output_type": "stream",
     "text": [
      "Erreur quadratique moyenne (EQM): 2.4240970569162266\n",
      "Erreur absolue moyenne (EAM): 1.2134078031172493\n",
      "Coefficient de détermination (R²): 0.9227830492257538\n"
     ]
    }
   ],
   "source": [
    "degree = 4\n",
    "poly_features = PolynomialFeatures(degree=degree)\n",
    "X_poly = poly_features.fit_transform(X_train)\n",
    "\n",
    "mod = make_pipeline(PolynomialFeatures(degree), LinearRegression())\n",
    "mod.fit(X_poly, y_train)\n",
    "\n",
    "X_test_poly = poly_features.transform(X_test)\n",
    "predictions = mod.predict(X_test_poly)\n",
    "\n",
    "mse = mean_squared_error(y_test, predictions)\n",
    "mae = mean_absolute_error(y_test, predictions)\n",
    "r2 = r2_score(y_test, predictions)\n",
    "\n",
    "print('Erreur quadratique moyenne (EQM):', mse)\n",
    "print('Erreur absolue moyenne (EAM):', mae)\n",
    "print('Coefficient de détermination (R²):', r2)"
   ]
  },
  {
   "cell_type": "code",
   "execution_count": 52,
   "id": "c6c1c77f",
   "metadata": {
    "scrolled": true
   },
   "outputs": [
    {
     "name": "stdout",
     "output_type": "stream",
     "text": [
      "Prédiction pour l'année 2023 et le mois 2: [8.61813522]\n"
     ]
    },
    {
     "name": "stderr",
     "output_type": "stream",
     "text": [
      "C:\\Users\\mbako\\anaconda3\\Lib\\site-packages\\sklearn\\base.py:464: UserWarning: X does not have valid feature names, but PolynomialFeatures was fitted with feature names\n",
      "  warnings.warn(\n"
     ]
    }
   ],
   "source": [
    "new_data = np.array([[2024, 3]])\n",
    "\n",
    "new_data_poly = poly_features.transform(new_data)\n",
    "\n",
    "prediction = mod.predict(new_data_poly)\n",
    "\n",
    "print(\"Prédiction pour l'année 2023 et le mois 2:\", prediction)"
   ]
  },
  {
   "cell_type": "code",
   "execution_count": 62,
   "id": "3b27602f",
   "metadata": {},
   "outputs": [
    {
     "data": {
      "text/plain": [
       "['model_polynomial_degree5.pkl']"
      ]
     },
     "execution_count": 62,
     "metadata": {},
     "output_type": "execute_result"
    }
   ],
   "source": [
    "# Enregistrement du modèle avec joblib\n",
    "joblib.dump(mod, 'model_polynomial_degree5.pkl')"
   ]
  }
 ],
 "metadata": {
  "kernelspec": {
   "display_name": "Python 3 (ipykernel)",
   "language": "python",
   "name": "python3"
  },
  "language_info": {
   "codemirror_mode": {
    "name": "ipython",
    "version": 3
   },
   "file_extension": ".py",
   "mimetype": "text/x-python",
   "name": "python",
   "nbconvert_exporter": "python",
   "pygments_lexer": "ipython3",
   "version": "3.11.5"
  }
 },
 "nbformat": 4,
 "nbformat_minor": 5
}
